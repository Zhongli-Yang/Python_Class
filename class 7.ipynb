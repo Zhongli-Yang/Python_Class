{
 "cells": [
  {
   "cell_type": "code",
   "execution_count": 3,
   "metadata": {},
   "outputs": [
    {
     "data": {
      "text/plain": [
       "','"
      ]
     },
     "execution_count": 3,
     "metadata": {},
     "output_type": "execute_result"
    }
   ],
   "source": [
    "str = 'hello, world!'\n",
    "str[5]"
   ]
  },
  {
   "cell_type": "code",
   "execution_count": 4,
   "metadata": {},
   "outputs": [
    {
     "data": {
      "text/plain": [
       "13"
      ]
     },
     "execution_count": 4,
     "metadata": {},
     "output_type": "execute_result"
    }
   ],
   "source": [
    "len(str)"
   ]
  },
  {
   "cell_type": "code",
   "execution_count": 5,
   "metadata": {},
   "outputs": [
    {
     "data": {
      "text/plain": [
       "'w'"
      ]
     },
     "execution_count": 5,
     "metadata": {},
     "output_type": "execute_result"
    }
   ],
   "source": [
    "max(str)"
   ]
  },
  {
   "cell_type": "code",
   "execution_count": 8,
   "metadata": {},
   "outputs": [
    {
     "name": "stdout",
     "output_type": "stream",
     "text": [
      "E\n"
     ]
    }
   ],
   "source": [
    "print(str.upper())"
   ]
  },
  {
   "cell_type": "code",
   "execution_count": 7,
   "metadata": {},
   "outputs": [
    {
     "name": "stdout",
     "output_type": "stream",
     "text": [
      "hello, world!\n"
     ]
    }
   ],
   "source": [
    "print(str.lower())"
   ]
  },
  {
   "cell_type": "code",
   "execution_count": 9,
   "metadata": {},
   "outputs": [
    {
     "name": "stdout",
     "output_type": "stream",
     "text": [
      "Hello, World!\n"
     ]
    }
   ],
   "source": [
    "print(str.title())"
   ]
  },
  {
   "cell_type": "code",
   "execution_count": 12,
   "metadata": {},
   "outputs": [
    {
     "name": "stdout",
     "output_type": "stream",
     "text": [
      "hello, yrq\n"
     ]
    }
   ],
   "source": [
    "str = 'hello, '\n",
    "name = 'yrq'\n",
    "print(str+name)"
   ]
  },
  {
   "cell_type": "code",
   "execution_count": 13,
   "metadata": {},
   "outputs": [
    {
     "data": {
      "text/plain": [
       "'yhello, rhello, q'"
      ]
     },
     "execution_count": 13,
     "metadata": {},
     "output_type": "execute_result"
    }
   ],
   "source": [
    "str.join(name)"
   ]
  },
  {
   "cell_type": "code",
   "execution_count": 14,
   "metadata": {},
   "outputs": [
    {
     "data": {
      "text/plain": [
       "'1+ 2+ 3+ 4+ 5'"
      ]
     },
     "execution_count": 14,
     "metadata": {},
     "output_type": "execute_result"
    }
   ],
   "source": [
    "numbers = '12345'\n",
    "'+ '.join(numbers)"
   ]
  },
  {
   "cell_type": "code",
   "execution_count": 15,
   "metadata": {},
   "outputs": [
    {
     "data": {
      "text/plain": [
       "'hello,world,'"
      ]
     },
     "execution_count": 15,
     "metadata": {},
     "output_type": "execute_result"
    }
   ],
   "source": [
    "'hello,%s' % 'world,'"
   ]
  },
  {
   "cell_type": "code",
   "execution_count": 19,
   "metadata": {},
   "outputs": [
    {
     "name": "stdout",
     "output_type": "stream",
     "text": [
      "9 = 3 * 3\n",
      "9 = 3 * 3\n"
     ]
    }
   ],
   "source": [
    "x = 3\n",
    "print('{} = {} * {}'.format(x*x, x, x))\n",
    "print('{1} = {0} * {0}'.format(x,x*x))"
   ]
  },
  {
   "cell_type": "code",
   "execution_count": 21,
   "metadata": {},
   "outputs": [
    {
     "name": "stdout",
     "output_type": "stream",
     "text": [
      "my name is yrq, my age is 22\n",
      "my name is yrq, my age is 22\n"
     ]
    }
   ],
   "source": [
    "print('my name is {name}, my age is {age}'.format(name='yrq', age='22'))\n",
    "name = 'yrq'\n",
    "age = 22\n",
    "print(f'my name is {name}, my age is {age}')"
   ]
  },
  {
   "cell_type": "code",
   "execution_count": 22,
   "metadata": {},
   "outputs": [
    {
     "data": {
      "text/plain": [
       "'***hello***'"
      ]
     },
     "execution_count": 22,
     "metadata": {},
     "output_type": "execute_result"
    }
   ],
   "source": [
    "'hello'.center(11,'*')"
   ]
  },
  {
   "cell_type": "code",
   "execution_count": 24,
   "metadata": {},
   "outputs": [
    {
     "name": "stdout",
     "output_type": "stream",
     "text": [
      "****************************************\n",
      "*             hello, world             *\n",
      "****************************************\n"
     ]
    }
   ],
   "source": [
    "print('*'*40)\n",
    "print('hello, world'.center(38).center(40,'*'))\n",
    "print('*'*40)"
   ]
  },
  {
   "cell_type": "code",
   "execution_count": 33,
   "metadata": {},
   "outputs": [
    {
     "name": "stdout",
     "output_type": "stream",
     "text": [
      "13\n"
     ]
    }
   ],
   "source": [
    "file_path = r'e:\\rua\\ruarua.ipynb'\n",
    "index = file_path.find('.')\n",
    "print(index)"
   ]
  },
  {
   "cell_type": "code",
   "execution_count": 34,
   "metadata": {},
   "outputs": [
    {
     "data": {
      "text/plain": [
       "'ipynb'"
      ]
     },
     "execution_count": 34,
     "metadata": {},
     "output_type": "execute_result"
    }
   ],
   "source": [
    "file_path[index+1:]"
   ]
  },
  {
   "cell_type": "code",
   "execution_count": 35,
   "metadata": {},
   "outputs": [
    {
     "data": {
      "text/plain": [
       "6"
      ]
     },
     "execution_count": 35,
     "metadata": {},
     "output_type": "execute_result"
    }
   ],
   "source": [
    "file_path.rfind('\\\\')"
   ]
  },
  {
   "cell_type": "code",
   "execution_count": 36,
   "metadata": {},
   "outputs": [
    {
     "data": {
      "text/plain": [
       "'ruarua'"
      ]
     },
     "execution_count": 36,
     "metadata": {},
     "output_type": "execute_result"
    }
   ],
   "source": [
    "file_path[file_path.rfind('\\\\')+1 : file_path.find('.')]"
   ]
  },
  {
   "cell_type": "code",
   "execution_count": 39,
   "metadata": {},
   "outputs": [
    {
     "name": "stdin",
     "output_type": "stream",
     "text": [
      "do you like python? Yes\n"
     ]
    },
    {
     "name": "stdout",
     "output_type": "stream",
     "text": [
      "Great.\n"
     ]
    }
   ],
   "source": [
    "answer = input('do you like python?')\n",
    "if answer.lower() == 'yes':\n",
    "    print('Great.')"
   ]
  },
  {
   "cell_type": "code",
   "execution_count": 40,
   "metadata": {},
   "outputs": [
    {
     "data": {
      "text/plain": [
       "'Hello'"
      ]
     },
     "execution_count": 40,
     "metadata": {},
     "output_type": "execute_result"
    }
   ],
   "source": [
    "'hello'.replace('h', 'H')"
   ]
  },
  {
   "cell_type": "code",
   "execution_count": 41,
   "metadata": {},
   "outputs": [
    {
     "data": {
      "text/plain": [
       "'Hello, yrq'"
      ]
     },
     "execution_count": 41,
     "metadata": {},
     "output_type": "execute_result"
    }
   ],
   "source": [
    "'Hello, #name#'.replace('#name#','yrq')"
   ]
  },
  {
   "cell_type": "code",
   "execution_count": 43,
   "metadata": {},
   "outputs": [
    {
     "name": "stdin",
     "output_type": "stream",
     "text": [
      "please input a name zhangsan\n"
     ]
    },
    {
     "name": "stdout",
     "output_type": "stream",
     "text": [
      "100\n"
     ]
    }
   ],
   "source": [
    "names = ['zhangsan', 'lisi', 'wangwu', 'maliu']\n",
    "scores = [100,90,80,70]\n",
    "name = input('please input a name')\n",
    "print(scores[names.index(name)])"
   ]
  },
  {
   "cell_type": "code",
   "execution_count": 46,
   "metadata": {},
   "outputs": [
    {
     "name": "stdin",
     "output_type": "stream",
     "text": [
      "please input a name wangwu\n"
     ]
    },
    {
     "name": "stdout",
     "output_type": "stream",
     "text": [
      "80\n"
     ]
    }
   ],
   "source": [
    "scores = {'zhangsan':100, 'lisi':90, 'wangwu':80, 'maliu':70}\n",
    "name = input('please input a name')\n",
    "print(scores[name])"
   ]
  },
  {
   "cell_type": "code",
   "execution_count": 47,
   "metadata": {},
   "outputs": [
    {
     "data": {
      "text/plain": [
       "{'zhangsan': 100}"
      ]
     },
     "execution_count": 47,
     "metadata": {},
     "output_type": "execute_result"
    }
   ],
   "source": [
    "scores = {}\n",
    "scores = dict()\n",
    "scores['zhangsan']=100\n",
    "scores"
   ]
  },
  {
   "cell_type": "code",
   "execution_count": 48,
   "metadata": {},
   "outputs": [
    {
     "data": {
      "text/plain": [
       "True"
      ]
     },
     "execution_count": 48,
     "metadata": {},
     "output_type": "execute_result"
    }
   ],
   "source": [
    "'zhangsan' in scores"
   ]
  },
  {
   "cell_type": "code",
   "execution_count": 49,
   "metadata": {},
   "outputs": [
    {
     "data": {
      "text/plain": [
       "False"
      ]
     },
     "execution_count": 49,
     "metadata": {},
     "output_type": "execute_result"
    }
   ],
   "source": [
    "'lisi' in scores"
   ]
  },
  {
   "cell_type": "code",
   "execution_count": 50,
   "metadata": {},
   "outputs": [
    {
     "name": "stdin",
     "output_type": "stream",
     "text": [
      "pleasr input a name:  lisi\n"
     ]
    },
    {
     "name": "stdout",
     "output_type": "stream",
     "text": [
      "name not found\n"
     ]
    }
   ],
   "source": [
    "name = input('pleasr input a name: ')\n",
    "if name in scores:\n",
    "    print(scores[name])\n",
    "else:\n",
    "    print('name not found')"
   ]
  },
  {
   "cell_type": "code",
   "execution_count": 51,
   "metadata": {},
   "outputs": [
    {
     "data": {
      "text/plain": [
       "{}"
      ]
     },
     "execution_count": 51,
     "metadata": {},
     "output_type": "execute_result"
    }
   ],
   "source": [
    "del scores['zhangsan']\n",
    "scores"
   ]
  },
  {
   "cell_type": "code",
   "execution_count": 54,
   "metadata": {},
   "outputs": [
    {
     "data": {
      "text/plain": [
       "{'lisi': 80}"
      ]
     },
     "execution_count": 54,
     "metadata": {},
     "output_type": "execute_result"
    }
   ],
   "source": [
    "scores = {}\n",
    "scores['lisi'] = 90\n",
    "scores['lisi'] = 80\n",
    "scores"
   ]
  },
  {
   "cell_type": "code",
   "execution_count": 55,
   "metadata": {},
   "outputs": [
    {
     "data": {
      "text/plain": [
       "{'lisi': 80}"
      ]
     },
     "execution_count": 55,
     "metadata": {},
     "output_type": "execute_result"
    }
   ],
   "source": [
    "s2 = scores\n",
    "s2"
   ]
  },
  {
   "cell_type": "code",
   "execution_count": 56,
   "metadata": {},
   "outputs": [
    {
     "data": {
      "text/plain": [
       "{'lisi': 80, 'zhangsan': 100}"
      ]
     },
     "execution_count": 56,
     "metadata": {},
     "output_type": "execute_result"
    }
   ],
   "source": [
    "s2['zhangsan'] = 100\n",
    "scores"
   ]
  },
  {
   "cell_type": "code",
   "execution_count": 60,
   "metadata": {},
   "outputs": [
    {
     "data": {
      "text/plain": [
       "{'zhangsan': None, 'lisi': None, 'wangwu': None, 'maliu': None}"
      ]
     },
     "execution_count": 60,
     "metadata": {},
     "output_type": "execute_result"
    }
   ],
   "source": [
    "scores = {}.fromkeys(['zhangsan', 'lisi', 'wangwu','maliu'])\n",
    "scores"
   ]
  },
  {
   "cell_type": "code",
   "execution_count": 61,
   "metadata": {},
   "outputs": [
    {
     "data": {
      "text/plain": [
       "{'zhangsan': 100, 'lisi': 100, 'wangwu': 100, 'maliu': 100}"
      ]
     },
     "execution_count": 61,
     "metadata": {},
     "output_type": "execute_result"
    }
   ],
   "source": [
    "scores = {}.fromkeys(['zhangsan', 'lisi', 'wangwu','maliu'], 100)\n",
    "scores"
   ]
  },
  {
   "cell_type": "code",
   "execution_count": 62,
   "metadata": {},
   "outputs": [
    {
     "name": "stdout",
     "output_type": "stream",
     "text": [
      "{'a': 2, 'e': 5, 'i': 5, 'o': 1, 'u': 0}\n"
     ]
    }
   ],
   "source": [
    "str = 'hello, this is a test. Idesigned this test last night.'\n",
    "count = dict.fromkeys('aeiou',0)\n",
    "for ch in str:\n",
    "    if ch in 'aeiou':\n",
    "        count[ch] += 1\n",
    "print(count)"
   ]
  },
  {
   "cell_type": "code",
   "execution_count": 63,
   "metadata": {},
   "outputs": [
    {
     "name": "stdout",
     "output_type": "stream",
     "text": [
      "None\n"
     ]
    }
   ],
   "source": [
    "print(count.get('b'))"
   ]
  },
  {
   "cell_type": "code",
   "execution_count": 65,
   "metadata": {},
   "outputs": [
    {
     "name": "stdin",
     "output_type": "stream",
     "text": [
      "please input a name: zhangsan\n",
      "please input a score 100\n"
     ]
    },
    {
     "name": "stdout",
     "output_type": "stream",
     "text": [
      "zhangsan's score is 100\n"
     ]
    }
   ],
   "source": [
    "student = dict.fromkeys('name', 'score')\n",
    "student['name'] = input('please input a name:')\n",
    "student['score'] = int(input('please input a score'))\n",
    "print(\"{}'s score is {}\".format(student['name'],student['score']))"
   ]
  },
  {
   "cell_type": "code",
   "execution_count": 67,
   "metadata": {},
   "outputs": [
    {
     "name": "stdout",
     "output_type": "stream",
     "text": [
      "['San Zhao', 'San Qian', 'San Sun', 'San Li', 'San Zhou', 'San Wu', 'San Zheng', 'San Wang', 'Si Zhao', 'Si Qian', 'Si Sun', 'Si Li', 'Si Zhou', 'Si Wu', 'Si Zheng', 'Si Wang', 'Wu Zhao', 'Wu Qian', 'Wu Sun', 'Wu Li', 'Wu Zhou', 'Wu Wu', 'Wu Zheng', 'Wu Wang', 'Liu Zhao', 'Liu Qian', 'Liu Sun', 'Liu Li', 'Liu Zhou', 'Liu Wu', 'Liu Zheng', 'Liu Wang', 'Jia Zhao', 'Jia Qian', 'Jia Sun', 'Jia Li', 'Jia Zhou', 'Jia Wu', 'Jia Zheng', 'Jia Wang', 'Yi Zhao', 'Yi Qian', 'Yi Sun', 'Yi Li', 'Yi Zhou', 'Yi Wu', 'Yi Zheng', 'Yi Wang', 'Bing Zhao', 'Bing Qian', 'Bing Sun', 'Bing Li', 'Bing Zhou', 'Bing Wu', 'Bing Zheng', 'Bing Wang', 'Ding Zhao', 'Ding Qian', 'Ding Sun', 'Ding Li', 'Ding Zhou', 'Ding Wu', 'Ding Zheng', 'Ding Wang']\n"
     ]
    }
   ],
   "source": [
    "first_names = ['San', 'Si', 'Wu', 'Liu', 'Jia', 'Yi', 'Bing', 'Ding']\n",
    "last_names = ['Zhao', 'Qian', 'Sun', 'Li', 'Zhou', 'Wu', 'Zheng', 'Wang']\n",
    "names = list()\n",
    "\n",
    "for first_name in first_names:\n",
    "    for last_name in last_names:\n",
    "        names.append(first_name + ' ' +last_name)\n",
    "print(names)"
   ]
  },
  {
   "cell_type": "code",
   "execution_count": 68,
   "metadata": {},
   "outputs": [
    {
     "data": {
      "text/plain": [
       "64"
      ]
     },
     "execution_count": 68,
     "metadata": {},
     "output_type": "execute_result"
    }
   ],
   "source": [
    "len(names)"
   ]
  },
  {
   "cell_type": "code",
   "execution_count": 70,
   "metadata": {},
   "outputs": [
    {
     "data": {
      "text/plain": [
       "'Jia Wu'"
      ]
     },
     "execution_count": 70,
     "metadata": {},
     "output_type": "execute_result"
    }
   ],
   "source": [
    "import random\n",
    "random.choice(names)"
   ]
  },
  {
   "cell_type": "code",
   "execution_count": 72,
   "metadata": {},
   "outputs": [
    {
     "name": "stdout",
     "output_type": "stream",
     "text": [
      "15\n"
     ]
    }
   ],
   "source": [
    "score = random.randint(0,100)\n",
    "print(score)"
   ]
  },
  {
   "cell_type": "code",
   "execution_count": 75,
   "metadata": {},
   "outputs": [
    {
     "name": "stdout",
     "output_type": "stream",
     "text": [
      "70 100 72 98 55 72 57 97 54 79 81 54 100 80 100 60 93 79 72 54 100 44 76 51 56 61 66 63 67 69 59 65 60 73 55 62 42 50 82 80 67 48 64 51 86 63 40 77 72 70 77 52 74 100 97 67 34 100 100 80 100 97 97 51 78 92 77 100 75 100 75 61 89 30 71 100 67 99 66 43 79 60 77 44 55 79 71 75 84 88 76 87 100 90 67 67 68 81 56 73 "
     ]
    }
   ],
   "source": [
    "import math\n",
    "for i in range(0,100):\n",
    "    score = math.ceil(random.gauss(75,20))\n",
    "    if score > 100: score = 100\n",
    "    elif score < 0 : score = 0\n",
    "    print(score, end=' ')"
   ]
  },
  {
   "cell_type": "code",
   "execution_count": 84,
   "metadata": {},
   "outputs": [
    {
     "name": "stdout",
     "output_type": "stream",
     "text": [
      "{'Bing Li': {'Math': 46, 'Physics': 84, 'Python': 85},\n",
      " 'Bing Qian': {'Math': 39, 'Physics': 83, 'Python': 88},\n",
      " 'Bing Sun': {'Math': 84, 'Physics': 52, 'Python': 83},\n",
      " 'Bing Wang': {'Math': 100, 'Physics': 63, 'Python': 83},\n",
      " 'Bing Wu': {'Math': 88, 'Physics': 95, 'Python': 100},\n",
      " 'Bing Zhao': {'Math': 34, 'Physics': 100, 'Python': 75},\n",
      " 'Bing Zheng': {'Math': 57, 'Physics': 69, 'Python': 50},\n",
      " 'Bing Zhou': {'Math': 89, 'Physics': 63, 'Python': 88},\n",
      " 'Ding Li': {'Math': 66, 'Physics': 59, 'Python': 63},\n",
      " 'Ding Qian': {'Math': 88, 'Physics': 53, 'Python': 65},\n",
      " 'Ding Sun': {'Math': 78, 'Physics': 57, 'Python': 91},\n",
      " 'Ding Wang': {'Math': 76, 'Physics': 78, 'Python': 80},\n",
      " 'Ding Wu': {'Math': 68, 'Physics': 70, 'Python': 100},\n",
      " 'Ding Zhao': {'Math': 58, 'Physics': 68, 'Python': 89},\n",
      " 'Ding Zheng': {'Math': 100, 'Physics': 83, 'Python': 65},\n",
      " 'Ding Zhou': {'Math': 38, 'Physics': 68, 'Python': 85},\n",
      " 'Jia Li': {'Math': 86, 'Physics': 88, 'Python': 63},\n",
      " 'Jia Qian': {'Math': 67, 'Physics': 100, 'Python': 85},\n",
      " 'Jia Sun': {'Math': 56, 'Physics': 50, 'Python': 60},\n",
      " 'Jia Wang': {'Math': 87, 'Physics': 66, 'Python': 72},\n",
      " 'Jia Wu': {'Math': 55, 'Physics': 38, 'Python': 100},\n",
      " 'Jia Zhao': {'Math': 51, 'Physics': 76, 'Python': 95},\n",
      " 'Jia Zheng': {'Math': 72, 'Physics': 60, 'Python': 90},\n",
      " 'Jia Zhou': {'Math': 89, 'Physics': 78, 'Python': 80},\n",
      " 'Liu Li': {'Math': 82, 'Physics': 59, 'Python': 71},\n",
      " 'Liu Qian': {'Math': 86, 'Physics': 92, 'Python': 68},\n",
      " 'Liu Sun': {'Math': 97, 'Physics': 40, 'Python': 100},\n",
      " 'Liu Wang': {'Math': 100, 'Physics': 56, 'Python': 94},\n",
      " 'Liu Wu': {'Math': 74, 'Physics': 43, 'Python': 98},\n",
      " 'Liu Zhao': {'Math': 70, 'Physics': 69, 'Python': 90},\n",
      " 'Liu Zheng': {'Math': 67, 'Physics': 75, 'Python': 78},\n",
      " 'Liu Zhou': {'Math': 70, 'Physics': 73, 'Python': 55},\n",
      " 'San Li': {'Math': 72, 'Physics': 70, 'Python': 55},\n",
      " 'San Qian': {'Math': 100, 'Physics': 73, 'Python': 58},\n",
      " 'San Sun': {'Math': 31, 'Physics': 78, 'Python': 95},\n",
      " 'San Wang': {'Math': 87, 'Physics': 80, 'Python': 77},\n",
      " 'San Wu': {'Math': 78, 'Physics': 48, 'Python': 80},\n",
      " 'San Zhao': {'Math': 100, 'Physics': 80, 'Python': 45},\n",
      " 'San Zheng': {'Math': 75, 'Physics': 91, 'Python': 55},\n",
      " 'San Zhou': {'Math': 71, 'Physics': 92, 'Python': 64},\n",
      " 'Si Li': {'Math': 85, 'Physics': 63, 'Python': 79},\n",
      " 'Si Qian': {'Math': 78, 'Physics': 100, 'Python': 76},\n",
      " 'Si Sun': {'Math': 98, 'Physics': 73, 'Python': 88},\n",
      " 'Si Wang': {'Math': 53, 'Physics': 61, 'Python': 93},\n",
      " 'Si Wu': {'Math': 84, 'Physics': 100, 'Python': 70},\n",
      " 'Si Zhao': {'Math': 80, 'Physics': 70, 'Python': 79},\n",
      " 'Si Zheng': {'Math': 68, 'Physics': 68, 'Python': 79},\n",
      " 'Si Zhou': {'Math': 94, 'Physics': 84, 'Python': 57},\n",
      " 'Wu Li': {'Math': 99, 'Physics': 100, 'Python': 84},\n",
      " 'Wu Qian': {'Math': 68, 'Physics': 83, 'Python': 49},\n",
      " 'Wu Sun': {'Math': 34, 'Physics': 53, 'Python': 67},\n",
      " 'Wu Wang': {'Math': 72, 'Physics': 55, 'Python': 77},\n",
      " 'Wu Wu': {'Math': 94, 'Physics': 76, 'Python': 97},\n",
      " 'Wu Zhao': {'Math': 81, 'Physics': 85, 'Python': 56},\n",
      " 'Wu Zheng': {'Math': 75, 'Physics': 57, 'Python': 69},\n",
      " 'Wu Zhou': {'Math': 83, 'Physics': 74, 'Python': 89},\n",
      " 'Yi Li': {'Math': 100, 'Physics': 99, 'Python': 69},\n",
      " 'Yi Qian': {'Math': 74, 'Physics': 95, 'Python': 77},\n",
      " 'Yi Sun': {'Math': 100, 'Physics': 76, 'Python': 50},\n",
      " 'Yi Wang': {'Math': 100, 'Physics': 100, 'Python': 80},\n",
      " 'Yi Wu': {'Math': 61, 'Physics': 86, 'Python': 78},\n",
      " 'Yi Zhao': {'Math': 100, 'Physics': 97, 'Python': 57},\n",
      " 'Yi Zheng': {'Math': 40, 'Physics': 72, 'Python': 43},\n",
      " 'Yi Zhou': {'Math': 70, 'Physics': 100, 'Python': 65}}\n"
     ]
    }
   ],
   "source": [
    "import pprint\n",
    "\n",
    "def get_random_score():\n",
    "    score = math.ceil(random.gauss(75,20))\n",
    "    if score > 100: score = 100\n",
    "    elif score < 0 : score = 0\n",
    "    return score\n",
    "\n",
    "score_db = {}\n",
    "score_template = {}.fromkeys(['Physics', 'Math', 'Python'])\n",
    "for name in names:\n",
    "    scores = score_template.copy()\n",
    "    \n",
    "    scores['Physics'] = get_random_score()\n",
    "    scores['Math'] = get_random_score()\n",
    "    scores['Python'] = get_random_score()\n",
    "    \n",
    "    score_db[name] = scores\n",
    "\n",
    "pprint.pprint(score_db)"
   ]
  },
  {
   "cell_type": "code",
   "execution_count": 78,
   "metadata": {},
   "outputs": [
    {
     "name": "stdout",
     "output_type": "stream",
     "text": [
      "7\n"
     ]
    }
   ],
   "source": [
    "def add(a,b):\n",
    "    return a+b\n",
    "\n",
    "print(add(3,4))"
   ]
  },
  {
   "cell_type": "code",
   "execution_count": 86,
   "metadata": {},
   "outputs": [
    {
     "name": "stdin",
     "output_type": "stream",
     "text": [
      "please input a name San Zhao\n"
     ]
    },
    {
     "name": "stdout",
     "output_type": "stream",
     "text": [
      "Physics: 80\n",
      "Math: 100\n",
      "Python: 45\n"
     ]
    }
   ],
   "source": [
    "name = input('please input a name')\n",
    "if name in score_db:\n",
    "    print('Physics:', score_db[name]['Physics'])\n",
    "    print('Math:', score_db[name]['Math'])\n",
    "    print('Python:', score_db[name]['Python'])"
   ]
  },
  {
   "cell_type": "code",
   "execution_count": 95,
   "metadata": {},
   "outputs": [
    {
     "name": "stdout",
     "output_type": "stream",
     "text": [
      "Name\t\tPhysics\tMath\tPython\tTotal\n",
      "San Zhao      \t80\t100\t45\t225\n",
      "San Qian      \t73\t100\t58\t231\n",
      "San Sun       \t78\t31\t95\t204\n",
      "San Li        \t70\t72\t55\t197\n",
      "San Zhou      \t92\t71\t64\t227\n",
      "San Wu        \t48\t78\t80\t206\n",
      "San Zheng     \t91\t75\t55\t221\n",
      "San Wang      \t80\t87\t77\t244\n",
      "Si Zhao       \t70\t80\t79\t229\n",
      "Si Qian       \t100\t78\t76\t254\n",
      "Si Sun        \t73\t98\t88\t259\n",
      "Si Li         \t63\t85\t79\t227\n",
      "Si Zhou       \t84\t94\t57\t235\n",
      "Si Wu         \t100\t84\t70\t254\n",
      "Si Zheng      \t68\t68\t79\t215\n",
      "Si Wang       \t61\t53\t93\t207\n",
      "Wu Zhao       \t85\t81\t56\t222\n",
      "Wu Qian       \t83\t68\t49\t200\n",
      "Wu Sun        \t53\t34\t67\t154\n",
      "Wu Li         \t100\t99\t84\t283\n",
      "Wu Zhou       \t74\t83\t89\t246\n",
      "Wu Wu         \t76\t94\t97\t267\n",
      "Wu Zheng      \t57\t75\t69\t201\n",
      "Wu Wang       \t55\t72\t77\t204\n",
      "Liu Zhao      \t69\t70\t90\t229\n",
      "Liu Qian      \t92\t86\t68\t246\n",
      "Liu Sun       \t40\t97\t100\t237\n",
      "Liu Li        \t59\t82\t71\t212\n",
      "Liu Zhou      \t73\t70\t55\t198\n",
      "Liu Wu        \t43\t74\t98\t215\n",
      "Liu Zheng     \t75\t67\t78\t220\n",
      "Liu Wang      \t56\t100\t94\t250\n",
      "Jia Zhao      \t76\t51\t95\t222\n",
      "Jia Qian      \t100\t67\t85\t252\n",
      "Jia Sun       \t50\t56\t60\t166\n",
      "Jia Li        \t88\t86\t63\t237\n",
      "Jia Zhou      \t78\t89\t80\t247\n",
      "Jia Wu        \t38\t55\t100\t193\n",
      "Jia Zheng     \t60\t72\t90\t222\n",
      "Jia Wang      \t66\t87\t72\t225\n",
      "Yi Zhao       \t97\t100\t57\t254\n",
      "Yi Qian       \t95\t74\t77\t246\n",
      "Yi Sun        \t76\t100\t50\t226\n",
      "Yi Li         \t99\t100\t69\t268\n",
      "Yi Zhou       \t100\t70\t65\t235\n",
      "Yi Wu         \t86\t61\t78\t225\n",
      "Yi Zheng      \t72\t40\t43\t155\n",
      "Yi Wang       \t100\t100\t80\t280\n",
      "Bing Zhao     \t100\t34\t75\t209\n",
      "Bing Qian     \t83\t39\t88\t210\n",
      "Bing Sun      \t52\t84\t83\t219\n",
      "Bing Li       \t84\t46\t85\t215\n",
      "Bing Zhou     \t63\t89\t88\t240\n",
      "Bing Wu       \t95\t88\t100\t283\n",
      "Bing Zheng    \t69\t57\t50\t176\n",
      "Bing Wang     \t63\t100\t83\t246\n",
      "Ding Zhao     \t68\t58\t89\t215\n",
      "Ding Qian     \t53\t88\t65\t206\n",
      "Ding Sun      \t57\t78\t91\t226\n",
      "Ding Li       \t59\t66\t63\t188\n",
      "Ding Zhou     \t68\t38\t85\t191\n",
      "Ding Wu       \t70\t68\t100\t238\n",
      "Ding Zheng    \t83\t100\t65\t248\n",
      "Ding Wang     \t78\t76\t80\t234\n"
     ]
    }
   ],
   "source": [
    "print('Name\\t\\tPhysics\\tMath\\tPython\\tTotal')\n",
    "\n",
    "for name in score_db.keys():\n",
    "    print('{:<14}'.format(name), end='\\t')\n",
    "    print(score_db[name]['Physics'],end='\\t')\n",
    "    print(score_db[name]['Math'],end='\\t')\n",
    "    print(score_db[name]['Python'],end='\\t')\n",
    "    print(score_db[name]['Physics']+score_db[name]['Math']+score_db[name]['Python'])\n",
    "    "
   ]
  },
  {
   "cell_type": "code",
   "execution_count": 107,
   "metadata": {},
   "outputs": [
    {
     "name": "stdout",
     "output_type": "stream",
     "text": [
      "Wu Li         \t100\t99\t84\t283\n",
      "Bing Wu       \t95\t88\t100\t283\n",
      "Yi Wang       \t100\t100\t80\t280\n",
      "Yi Li         \t99\t100\t69\t268\n",
      "Wu Wu         \t76\t94\t97\t267\n",
      "Si Sun        \t73\t98\t88\t259\n",
      "Si Qian       \t100\t78\t76\t254\n",
      "Si Wu         \t100\t84\t70\t254\n",
      "Yi Zhao       \t97\t100\t57\t254\n",
      "Jia Qian      \t100\t67\t85\t252\n",
      "Liu Wang      \t56\t100\t94\t250\n",
      "Ding Zheng    \t83\t100\t65\t248\n",
      "Jia Zhou      \t78\t89\t80\t247\n",
      "Wu Zhou       \t74\t83\t89\t246\n",
      "Liu Qian      \t92\t86\t68\t246\n",
      "Yi Qian       \t95\t74\t77\t246\n",
      "Bing Wang     \t63\t100\t83\t246\n",
      "San Wang      \t80\t87\t77\t244\n",
      "Bing Zhou     \t63\t89\t88\t240\n",
      "Ding Wu       \t70\t68\t100\t238\n",
      "Liu Sun       \t40\t97\t100\t237\n",
      "Jia Li        \t88\t86\t63\t237\n",
      "Si Zhou       \t84\t94\t57\t235\n",
      "Yi Zhou       \t100\t70\t65\t235\n",
      "Ding Wang     \t78\t76\t80\t234\n",
      "San Qian      \t73\t100\t58\t231\n",
      "Si Zhao       \t70\t80\t79\t229\n",
      "Liu Zhao      \t69\t70\t90\t229\n",
      "San Zhou      \t92\t71\t64\t227\n",
      "Si Li         \t63\t85\t79\t227\n",
      "Yi Sun        \t76\t100\t50\t226\n",
      "Ding Sun      \t57\t78\t91\t226\n",
      "San Zhao      \t80\t100\t45\t225\n",
      "Jia Wang      \t66\t87\t72\t225\n",
      "Yi Wu         \t86\t61\t78\t225\n",
      "Wu Zhao       \t85\t81\t56\t222\n",
      "Jia Zhao      \t76\t51\t95\t222\n",
      "Jia Zheng     \t60\t72\t90\t222\n",
      "San Zheng     \t91\t75\t55\t221\n",
      "Liu Zheng     \t75\t67\t78\t220\n",
      "Bing Sun      \t52\t84\t83\t219\n",
      "Si Zheng      \t68\t68\t79\t215\n",
      "Liu Wu        \t43\t74\t98\t215\n",
      "Bing Li       \t84\t46\t85\t215\n",
      "Ding Zhao     \t68\t58\t89\t215\n",
      "Liu Li        \t59\t82\t71\t212\n",
      "Bing Qian     \t83\t39\t88\t210\n",
      "Bing Zhao     \t100\t34\t75\t209\n",
      "Si Wang       \t61\t53\t93\t207\n",
      "San Wu        \t48\t78\t80\t206\n",
      "Ding Qian     \t53\t88\t65\t206\n",
      "San Sun       \t78\t31\t95\t204\n",
      "Wu Wang       \t55\t72\t77\t204\n",
      "Wu Zheng      \t57\t75\t69\t201\n",
      "Wu Qian       \t83\t68\t49\t200\n",
      "Liu Zhou      \t73\t70\t55\t198\n",
      "San Li        \t70\t72\t55\t197\n",
      "Jia Wu        \t38\t55\t100\t193\n",
      "Ding Zhou     \t68\t38\t85\t191\n",
      "Ding Li       \t59\t66\t63\t188\n",
      "Bing Zheng    \t69\t57\t50\t176\n",
      "Jia Sun       \t50\t56\t60\t166\n",
      "Yi Zheng      \t72\t40\t43\t155\n",
      "Wu Sun        \t53\t34\t67\t154\n"
     ]
    }
   ],
   "source": [
    "def total(item):\n",
    "    return item[1]['Physics'] + item[1]['Math'] + item[1]['Python']\n",
    "    \n",
    "items = score_db.items()\n",
    "sorted_scores = sorted(items, key=total, reverse = True)\n",
    "\n",
    "\n",
    "for item in sorted_scores:\n",
    "    print('{:<14}'.format(item[0]), end='\\t')\n",
    "    print(item[1]['Physics'],end='\\t')\n",
    "    print(item[1]['Math'],end='\\t')\n",
    "    print(item[1]['Python'],end='\\t')\n",
    "    print(item[1]['Physics']+item[1]['Math']+item[1]['Python'])"
   ]
  },
  {
   "cell_type": "code",
   "execution_count": null,
   "metadata": {},
   "outputs": [],
   "source": []
  }
 ],
 "metadata": {
  "kernelspec": {
   "display_name": "Python 3",
   "language": "python",
   "name": "python3"
  },
  "language_info": {
   "codemirror_mode": {
    "name": "ipython",
    "version": 3
   },
   "file_extension": ".py",
   "mimetype": "text/x-python",
   "name": "python",
   "nbconvert_exporter": "python",
   "pygments_lexer": "ipython3",
   "version": "3.7.1"
  }
 },
 "nbformat": 4,
 "nbformat_minor": 2
}
